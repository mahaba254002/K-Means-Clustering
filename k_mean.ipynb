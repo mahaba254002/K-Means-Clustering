{
 "cells": [
  {
   "cell_type": "markdown",
   "metadata": {},
   "source": [
    "To create a K-Means Algorithm\n",
    "\n",
    "Randomly chose k examples as initial centroids\n",
    "while true:\n",
    "create k clusters by assigning each\n",
    "example to closest centroid\n",
    "compute k new centroids by averaging examples in each cluster\n",
    "if centroids don't change:\n",
    "break\n",
    "\"\"\""
   ]
  },
  {
   "cell_type": "code",
   "execution_count": null,
   "metadata": {},
   "outputs": [],
   "source": [
    "import pandas as pd\n",
    "import matplotlib.pyplot as plt\n",
    "import numpy as np\n",
    "import copy\n",
    "\n",
    "# Create a dataset\n",
    "dataset = pd.DataFrame({\n",
    "    'X': [12, 20, 22,23,28, 18, 29, 33, 24, 45, 45, 52, 51, 52, 55, 53, 55, 61, 64, 69, 72],\n",
    "    'Y': [39, 36, 30,32,30, 52, 54, 46, 55, 59, 63, 70, 66, 63, 58, 23, 14, 8, 19, 7, 24]\n",
    "})\n"
   ]
  },
  {
   "cell_type": "code",
   "execution_count": null,
   "metadata": {},
   "outputs": [],
   "source": [
    "np.random.seed(14)\n",
    "k = 3\n",
    "\n",
    "centroids = {\n",
    "    i + 1: [np.random.randint(0, 80), np.random.randint(0, 80)] for i in range(k)\n",
    "}\n",
    "\n",
    "# Plot the dataset and initial centroids\n",
    "plt.figure(figsize=(7, 7))\n",
    "plt.scatter(dataset[\"X\"], dataset[\"Y\"], c=\"k\")\n",
    "colmap = {1: \"r\", 2: \"b\", 3: \"g\"}\n",
    "for i in centroids.keys():\n",
    "    plt.scatter(*centroids[i], color=colmap[i])\n",
    "plt.xlim(0, 80)\n",
    "plt.ylim(0, 80)\n",
    "plt.show()"
   ]
  },
  {
   "cell_type": "code",
   "execution_count": null,
   "metadata": {},
   "outputs": [],
   "source": [
    "def assignment(dataset, centroids): #calculates Euclidean distance between each data point and the centroids.\n",
    "    for i in centroids.keys():\n",
    "        dataset[\"distance_from_{}\".format(i)] = np.sqrt(\n",
    "            (dataset[\"X\"] - centroids[i][0]) ** 2\n",
    "            + (dataset[\"Y\"] - centroids[i][1]) ** 2\n",
    "        )\n",
    "    centroid_distance_cols = [\"distance_from_{}\".format(i) for i in centroids.keys()]\n",
    "    dataset[\"closest\"] = dataset.loc[:, centroid_distance_cols].idxmin(axis=1)\n",
    "    dataset[\"closest\"] = dataset[\"closest\"].map(\n",
    "        lambda x: int(x.lstrip(\"distance_from_\"))\n",
    "    )\n",
    "    return dataset\n",
    "dataset = assignment(dataset, centroids)\n",
    "print(dataset.head())"
   ]
  },
  {
   "cell_type": "code",
   "execution_count": null,
   "metadata": {},
   "outputs": [],
   "source": [
    "def update(centroids, df):\n",
    "    old_centroids = copy.deepcopy(centroids)\n",
    "    \n",
    "    for i in centroids.keys():\n",
    "        centroids[i][0] = np.mean(dataset[dataset['closest'] == i]['X'])\n",
    "        centroids[i][1] = np.mean(dataset[dataset['closest'] == i]['Y'])\n",
    "    \n",
    "    return centroids\n",
    "updated_centroids = update(centroids, dataset)\n",
    "plt.figure(figsize=(7, 7))\n",
    "plt.scatter(dataset[\"X\"], dataset[\"Y\"], c=\"k\")\n",
    "for i in updated_centroids.keys():\n",
    "    plt.scatter(*updated_centroids[i], color=colmap[i], marker=\"x\", s=100)\n",
    "plt.xlim(0, 80)\n",
    "plt.ylim(0, 80)\n",
    "plt.show()"
   ]
  },
  {
   "cell_type": "code",
   "execution_count": null,
   "metadata": {},
   "outputs": [],
   "source": [
    "# Continue until all assigned categories dont change anymore\n",
    "while True:\n",
    "    closest_centroids = dataset['closest'].copy(deep=True)\n",
    "    centroids = update(centroids, dataset)\n",
    "    dataset = assignment(dataset, centroids)\n",
    "    if closest_centroids.equals(dataset['closest']):\n",
    "        break\n",
    "\n",
    "# Plot the final clusters and centroids\n",
    "fig = plt.figure(figsize=(7, 7))\n",
    "plt.scatter(dataset['X'], dataset['Y'], color=dataset['closest'].map(colmap), alpha=0.5, edgecolor='k')\n",
    "for i in centroids.keys():\n",
    "    plt.scatter(*centroids[i], color=colmap[i])\n",
    "plt.xlim(0, 80)\n",
    "plt.ylim(0, 80)\n",
    "plt.show()"
   ]
  },
  {
   "cell_type": "markdown",
   "metadata": {},
   "source": [
    "More precise Method"
   ]
  },
  {
   "cell_type": "markdown",
   "metadata": {},
   "source": [
    "- np.random.choice(len(X), k, replace=False) randomly selects k unique indices from the range of indices [0, len(X)-1] without replacement. This means that each selected index will correspond to a distinct data point in the input matrix.\n",
    "\n",
    "- The selected indices are stored in the random_indices variable.\n",
    "X[random_indices] retrieves the data points from the input matrix X corresponding to the randomly selected indices. These data points will serve as the initial centroids."
   ]
  },
  {
   "cell_type": "code",
   "execution_count": null,
   "metadata": {},
   "outputs": [],
   "source": [
    "def initialize_centroids(X, k):\n",
    "    random_indices = np.random.choice(len(X), k, replace=False)\n",
    "    centroids = X[random_indices]\n",
    "    return centroids"
   ]
  },
  {
   "cell_type": "code",
   "execution_count": 31,
   "metadata": {},
   "outputs": [],
   "source": [
    "def assign_clusters(X, centroids):\n",
    "    distances = np.linalg.norm(X[:, np.newaxis] - centroids, axis=-1)\n",
    "    cluster_labels = np.argmin(distances, axis=1)\n",
    "    return cluster_labels"
   ]
  },
  {
   "cell_type": "code",
   "execution_count": 32,
   "metadata": {},
   "outputs": [],
   "source": [
    "def update_centroids(X, cluster_labels, k):\n",
    "    centroids = np.zeros((k, X.shape[1]))\n",
    "    for i in range(k):\n",
    "        centroids[i] = np.mean(X[cluster_labels == i], axis=0)\n",
    "    return centroids"
   ]
  },
  {
   "cell_type": "code",
   "execution_count": 33,
   "metadata": {},
   "outputs": [],
   "source": [
    "def k_means(X, k, num_iterations=100):\n",
    "    centroids = initialize_centroids(X, k)\n",
    "    for _ in range(num_iterations):\n",
    "        cluster_labels = assign_clusters(X, centroids)\n",
    "        centroids = update_centroids(X, cluster_labels, k)\n",
    "    return cluster_labels, centroids"
   ]
  },
  {
   "cell_type": "code",
   "execution_count": 39,
   "metadata": {},
   "outputs": [
    {
     "data": {
      "image/png": "[encoded data removed]",
      "text/plain": [
       "<Figure size 640x480 with 1 Axes>"
      ]
     },
     "metadata": {},
     "output_type": "display_data"
    }
   ],
   "source": [
    "from sklearn.datasets import make_blobs\n",
    "#X, _ = make_blobs(n_samples=200, centers=3, random_state=0)\n",
    "X=dataset.values\n",
    "# Apply k-means clustering\n",
    "k = 3\n",
    "cluster_labels, centroids = k_means(X, k)\n",
    "\n",
    "# Plot the data points and centroids\n",
    "plt.scatter(X[:, 0], X[:, 1], c=cluster_labels)\n",
    "plt.scatter(centroids[:, 0], centroids[:, 1], c='red', marker='x')\n",
    "plt.show()"
   ]
  },
  {
   "cell_type": "code",
   "execution_count": null,
   "metadata": {},
   "outputs": [],
   "source": []
  }
 ],
 "metadata": {
  "kernelspec": {
   "display_name": "Python 3",
   "language": "python",
   "name": "python3"
  },
  "language_info": {
   "codemirror_mode": {
    "name": "ipython",
    "version": 3
   },
   "file_extension": ".py",
   "mimetype": "text/x-python",
   "name": "python",
   "nbconvert_exporter": "python",
   "pygments_lexer": "ipython3",
   "version": "3.12.2"
  }
 },
 "nbformat": 4,
 "nbformat_minor": 2
}
